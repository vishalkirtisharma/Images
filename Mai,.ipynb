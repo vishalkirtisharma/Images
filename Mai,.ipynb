{
 "cells": [
  {
   "cell_type": "code",
   "execution_count": 68,
   "metadata": {},
   "outputs": [],
   "source": [
    "# pip install pillow\n",
    "from PIL import Image\n",
    "\n",
    "# Assign Varriable to that Images\n",
    "demo=Image.open(\"demo.jpg\")\n",
    "mask= Image.open(\"Mask.jpg\")\n",
    "Stroke= Image.open(\"Stroke.png\")\n",
    "\n",
    "# chagne Demo size 330 Widhth x 381 Height (Width,Height)\n",
    "demo= demo.resize((330,381))\n",
    "\n",
    "# Add Demo to their first position with gap of Height 66 Wight 63 loop up to 5 for gap of width 27 \n",
    "\n",
    "Width =27\n",
    "for i in range(10):\n",
    "    mask.paste(im=demo,box=(Width,63))\n",
    "    # mask.paste(im=Stroke,box=(gap,63))\n",
    "    Width += 27 + 330 #330\n",
    "    \n",
    "#copy data first row and paste 7 time that row with height of 32 \n",
    "Height = 408\n",
    "Crop= mask.crop((0,0,2480,480))\n",
    "\n",
    "for i in range(7):\n",
    "    mask.paste(im=Crop,box=(0,Height))\n",
    "    # mask.paste(im=Stroke,box=(gap,63))\n",
    "    Height += 408\n",
    "\n",
    "\n",
    "\n",
    "# save that file with folder\n",
    "mask.save(\"F.jpg\")\n",
    "\n",
    "\n",
    "# Open Prepare file for user\n",
    "mask.show()aaa\n"
   ]
  },
  {
   "cell_type": "code",
   "execution_count": 62,
   "metadata": {},
   "outputs": [
    {
     "data": {
      "text/plain": [
       "(330, 381)"
      ]
     },
     "execution_count": 62,
     "metadata": {},
     "output_type": "execute_result"
    }
   ],
   "source": [
    "demo.size"
   ]
  },
  {
   "cell_type": "code",
   "execution_count": null,
   "metadata": {},
   "outputs": [],
   "source": []
  }
 ],
 "metadata": {
  "interpreter": {
   "hash": "d6cebfe27b9604ec06bc58769ec902cc304c61e813339e21d3aaf9b3f231674e"
  },
  "kernelspec": {
   "display_name": "Python 3.9.10 64-bit (windows store)",
   "language": "python",
   "name": "python3"
  },
  "language_info": {
   "codemirror_mode": {
    "name": "ipython",
    "version": 3
   },
   "file_extension": ".py",
   "mimetype": "text/x-python",
   "name": "python",
   "nbconvert_exporter": "python",
   "pygments_lexer": "ipython3",
   "version": "3.9.10"
  },
  "orig_nbformat": 4
 },
 "nbformat": 4,
 "nbformat_minor": 2
}
